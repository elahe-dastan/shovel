{
 "cells": [
  {
   "cell_type": "code",
   "execution_count": 1,
   "id": "complicated-mouth",
   "metadata": {},
   "outputs": [],
   "source": [
    "import folium\n",
    "import pandas as pd\n",
    "\n",
    "# set iran as map starting point\n",
    "m = folium.Map(location=[32.427910, 53.688046], zoom_start=5)\n",
    "# mark an example location\n",
    "loc = [35.703136, 51.409126]\n",
    "folium.Marker(location=loc).add_to(m)\n",
    "data = pd.read_csv(\"covid.csv\")\n",
    "data_numpy = data.to_numpy()\n",
    "for i in range(data_numpy.shape[0]):\n",
    "    folium.Circle(location=[data_numpy[i][0], data_numpy[i][1]],\n",
    "                 radius=1,\n",
    "                 color=\"red\",\n",
    "                 fill=True).add_to(m)\n",
    "m.save('index.html')"
   ]
  },
  {
   "cell_type": "code",
   "execution_count": 19,
   "id": "horizontal-wellington",
   "metadata": {},
   "outputs": [],
   "source": [
    "from sklearn.cluster import DBSCAN\n",
    "import matplotlib.cm as cm\n",
    "import numpy as np\n",
    "\n",
    "clustering = DBSCAN(eps=0.7, min_samples=150).fit(data_numpy)\n",
    "p = folium.Map(location=[32.427910, 53.688046], zoom_start=5)\n",
    "loc = [35.703136, 51.409126]\n",
    "folium.Marker(location=loc).add_to(p)\n",
    "colors = ['blue', 'green', 'yellow', 'red', 'pink', 'purple']\n",
    "for i in range(data_numpy.shape[0]):\n",
    "    if clustering.labels_[i] == -1:\n",
    "        folium.Circle(location=[data_numpy[i][0], data_numpy[i][1]],\n",
    "                 radius=1,\n",
    "                 color=\"black\",\n",
    "                 fill=True).add_to(p)\n",
    "    else:\n",
    "            folium.Circle(location=[data_numpy[i][0], data_numpy[i][1]],\n",
    "                 radius=1,\n",
    "                 color=colors[clustering.labels_[i]],\n",
    "                 fill=True).add_to(p)\n",
    "p.save('index2.html')"
   ]
  }
 ],
 "metadata": {
  "kernelspec": {
   "display_name": "Python 3",
   "language": "python",
   "name": "python3"
  },
  "language_info": {
   "codemirror_mode": {
    "name": "ipython",
    "version": 3
   },
   "file_extension": ".py",
   "mimetype": "text/x-python",
   "name": "python",
   "nbconvert_exporter": "python",
   "pygments_lexer": "ipython3",
   "version": "3.8.5"
  }
 },
 "nbformat": 4,
 "nbformat_minor": 5
}
