{
 "cells": [
  {
   "cell_type": "code",
   "execution_count": 1,
   "id": "subject-antique",
   "metadata": {},
   "outputs": [],
   "source": [
    "import folium\n",
    "import pandas as pd\n",
    "\n",
    "# set iran as map starting point\n",
    "m = folium.Map(location=[32.427910, 53.688046], zoom_start=5)"
   ]
  },
  {
   "cell_type": "code",
   "execution_count": 2,
   "id": "powered-liver",
   "metadata": {},
   "outputs": [
    {
     "data": {
      "text/plain": [
       "<folium.map.Marker at 0x7f5635ad0d30>"
      ]
     },
     "execution_count": 2,
     "metadata": {},
     "output_type": "execute_result"
    }
   ],
   "source": [
    "# mark an example location\n",
    "loc = [35.703136, 51.409126]\n",
    "folium.Marker(location=loc).add_to(m)"
   ]
  },
  {
   "cell_type": "code",
   "execution_count": 3,
   "id": "sensitive-tooth",
   "metadata": {},
   "outputs": [
    {
     "data": {
      "text/html": [
       "<div>\n",
       "<style scoped>\n",
       "    .dataframe tbody tr th:only-of-type {\n",
       "        vertical-align: middle;\n",
       "    }\n",
       "\n",
       "    .dataframe tbody tr th {\n",
       "        vertical-align: top;\n",
       "    }\n",
       "\n",
       "    .dataframe thead th {\n",
       "        text-align: right;\n",
       "    }\n",
       "</style>\n",
       "<table border=\"1\" class=\"dataframe\">\n",
       "  <thead>\n",
       "    <tr style=\"text-align: right;\">\n",
       "      <th></th>\n",
       "      <th>39.37962</th>\n",
       "      <th>44.39011</th>\n",
       "    </tr>\n",
       "  </thead>\n",
       "  <tbody>\n",
       "    <tr>\n",
       "      <th>0</th>\n",
       "      <td>39.33063</td>\n",
       "      <td>44.14934</td>\n",
       "    </tr>\n",
       "    <tr>\n",
       "      <th>1</th>\n",
       "      <td>39.20938</td>\n",
       "      <td>44.76798</td>\n",
       "    </tr>\n",
       "    <tr>\n",
       "      <th>2</th>\n",
       "      <td>39.27789</td>\n",
       "      <td>44.54155</td>\n",
       "    </tr>\n",
       "    <tr>\n",
       "      <th>3</th>\n",
       "      <td>39.29137</td>\n",
       "      <td>44.46958</td>\n",
       "    </tr>\n",
       "    <tr>\n",
       "      <th>4</th>\n",
       "      <td>39.28080</td>\n",
       "      <td>44.46657</td>\n",
       "    </tr>\n",
       "    <tr>\n",
       "      <th>...</th>\n",
       "      <td>...</td>\n",
       "      <td>...</td>\n",
       "    </tr>\n",
       "    <tr>\n",
       "      <th>18187</th>\n",
       "      <td>33.70264</td>\n",
       "      <td>59.26388</td>\n",
       "    </tr>\n",
       "    <tr>\n",
       "      <th>18188</th>\n",
       "      <td>32.59978</td>\n",
       "      <td>59.40304</td>\n",
       "    </tr>\n",
       "    <tr>\n",
       "      <th>18189</th>\n",
       "      <td>33.54605</td>\n",
       "      <td>56.94985</td>\n",
       "    </tr>\n",
       "    <tr>\n",
       "      <th>18190</th>\n",
       "      <td>34.18181</td>\n",
       "      <td>58.02116</td>\n",
       "    </tr>\n",
       "    <tr>\n",
       "      <th>18191</th>\n",
       "      <td>25.55712</td>\n",
       "      <td>57.12496</td>\n",
       "    </tr>\n",
       "  </tbody>\n",
       "</table>\n",
       "<p>18192 rows × 2 columns</p>\n",
       "</div>"
      ],
      "text/plain": [
       "       39.37962  44.39011\n",
       "0      39.33063  44.14934\n",
       "1      39.20938  44.76798\n",
       "2      39.27789  44.54155\n",
       "3      39.29137  44.46958\n",
       "4      39.28080  44.46657\n",
       "...         ...       ...\n",
       "18187  33.70264  59.26388\n",
       "18188  32.59978  59.40304\n",
       "18189  33.54605  56.94985\n",
       "18190  34.18181  58.02116\n",
       "18191  25.55712  57.12496\n",
       "\n",
       "[18192 rows x 2 columns]"
      ]
     },
     "execution_count": 3,
     "metadata": {},
     "output_type": "execute_result"
    }
   ],
   "source": [
    "import pandas as pd\n",
    "pd.read_csv(\"covid.csv\")"
   ]
  },
  {
   "cell_type": "code",
   "execution_count": null,
   "id": "revised-plymouth",
   "metadata": {},
   "outputs": [],
   "source": []
  }
 ],
 "metadata": {
  "kernelspec": {
   "display_name": "Python 3",
   "language": "python",
   "name": "python3"
  },
  "language_info": {
   "codemirror_mode": {
    "name": "ipython",
    "version": 3
   },
   "file_extension": ".py",
   "mimetype": "text/x-python",
   "name": "python",
   "nbconvert_exporter": "python",
   "pygments_lexer": "ipython3",
   "version": "3.8.5"
  }
 },
 "nbformat": 4,
 "nbformat_minor": 5
}
